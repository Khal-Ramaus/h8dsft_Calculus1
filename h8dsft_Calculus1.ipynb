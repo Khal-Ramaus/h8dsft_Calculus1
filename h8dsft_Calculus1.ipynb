{
  "nbformat": 4,
  "nbformat_minor": 0,
  "metadata": {
    "colab": {
      "name": "h8dsft_Calculus1.ipynb",
      "provenance": [],
      "collapsed_sections": [],
      "authorship_tag": "ABX9TyPAK/1k7VqxOMd28x/VpRi7",
      "include_colab_link": true
    },
    "kernelspec": {
      "name": "python3",
      "display_name": "Python 3"
    },
    "language_info": {
      "name": "python"
    }
  },
  "cells": [
    {
      "cell_type": "markdown",
      "metadata": {
        "id": "view-in-github",
        "colab_type": "text"
      },
      "source": [
        "<a href=\"https://colab.research.google.com/github/Khal-Ramaus/h8dsft_Calculus1/blob/master/h8dsft_Calculus1.ipynb\" target=\"_parent\"><img src=\"https://colab.research.google.com/assets/colab-badge.svg\" alt=\"Open In Colab\"/></a>"
      ]
    },
    {
      "cell_type": "markdown",
      "metadata": {
        "id": "48QrVamf10GF"
      },
      "source": [
        "Haikal Ramadhan Usman\n",
        "\n",
        "Non-Graded Challenge 7"
      ]
    },
    {
      "cell_type": "code",
      "metadata": {
        "id": "ihJvH9-wg9Jh"
      },
      "source": [
        "import numpy as np\n",
        "import sympy as sy\n",
        "%matplotlib inline\n",
        "import matplotlib.pyplot as plt"
      ],
      "execution_count": 1,
      "outputs": []
    },
    {
      "cell_type": "markdown",
      "metadata": {
        "id": "xG3WnSQChN0Q"
      },
      "source": [
        "# $y = x^2$ + 2x + 1:"
      ]
    },
    {
      "cell_type": "code",
      "metadata": {
        "colab": {
          "base_uri": "https://localhost:8080/",
          "height": 55
        },
        "id": "wWZIwos9uggv",
        "outputId": "6353f3b3-7885-464f-872e-a740fc466484"
      },
      "source": [
        "x = sy.Symbol('x', real = True)\n",
        "f = x**2+2*x-1\n",
        "\n",
        "print('f\\'(x) adalah:')\n",
        "f.diff(x)"
      ],
      "execution_count": 2,
      "outputs": [
        {
          "output_type": "stream",
          "text": [
            "f'(x) adalah:\n"
          ],
          "name": "stdout"
        },
        {
          "output_type": "execute_result",
          "data": {
            "text/latex": "$\\displaystyle 2 x + 2$",
            "text/plain": [
              "2*x + 2"
            ]
          },
          "metadata": {
            "tags": []
          },
          "execution_count": 2
        }
      ]
    },
    {
      "cell_type": "markdown",
      "metadata": {
        "id": "lUW9VTXhv18X"
      },
      "source": [
        "Menggunakan numpy"
      ]
    },
    {
      "cell_type": "code",
      "metadata": {
        "id": "vN7gz0urvz4f"
      },
      "source": [
        "x = np.linspace(0,20)\n",
        "y = x**2+2*x-1"
      ],
      "execution_count": 6,
      "outputs": []
    },
    {
      "cell_type": "markdown",
      "metadata": {
        "id": "BrVYkkVDwOVb"
      },
      "source": [
        "$slope = \\dfrac{rise}{run} = \\dfrac{\\Delta y}{\\Delta x} = \\dfrac{y_\\mathrm{B} - y_\\mathrm{A}}{x_\\mathrm{B} - x_\\mathrm{A}}$"
      ]
    },
    {
      "cell_type": "code",
      "metadata": {
        "colab": {
          "base_uri": "https://localhost:8080/"
        },
        "id": "wu6pddoQwK75",
        "outputId": "1aef62a2-0b26-4f77-fe2b-ce1686f8fd22"
      },
      "source": [
        "df = np.diff(y)/np.diff(x)\n",
        "x"
      ],
      "execution_count": 8,
      "outputs": [
        {
          "output_type": "execute_result",
          "data": {
            "text/plain": [
              "array([ 0.        ,  0.40816327,  0.81632653,  1.2244898 ,  1.63265306,\n",
              "        2.04081633,  2.44897959,  2.85714286,  3.26530612,  3.67346939,\n",
              "        4.08163265,  4.48979592,  4.89795918,  5.30612245,  5.71428571,\n",
              "        6.12244898,  6.53061224,  6.93877551,  7.34693878,  7.75510204,\n",
              "        8.16326531,  8.57142857,  8.97959184,  9.3877551 ,  9.79591837,\n",
              "       10.20408163, 10.6122449 , 11.02040816, 11.42857143, 11.83673469,\n",
              "       12.24489796, 12.65306122, 13.06122449, 13.46938776, 13.87755102,\n",
              "       14.28571429, 14.69387755, 15.10204082, 15.51020408, 15.91836735,\n",
              "       16.32653061, 16.73469388, 17.14285714, 17.55102041, 17.95918367,\n",
              "       18.36734694, 18.7755102 , 19.18367347, 19.59183673, 20.        ])"
            ]
          },
          "metadata": {
            "tags": []
          },
          "execution_count": 8
        }
      ]
    },
    {
      "cell_type": "code",
      "metadata": {
        "colab": {
          "base_uri": "https://localhost:8080/",
          "height": 280
        },
        "id": "mxgGERYWw1kA",
        "outputId": "a6d67bee-6950-4ca2-b720-6019bd0c70ea"
      },
      "source": [
        "plt.plot(x,y, label='f(x)')\n",
        "plt.plot(x[1:],df,label=\"f'(x)\")\n",
        "plt.title('Turunan f(x)')\n",
        "plt.legend()\n",
        "plt.show()"
      ],
      "execution_count": null,
      "outputs": [
        {
          "output_type": "display_data",
          "data": {
            "image/png": "[encoded data removed]",
            "text/plain": [
              "<Figure size 432x288 with 1 Axes>"
            ]
          },
          "metadata": {
            "tags": [],
            "needs_background": "light"
          }
        }
      ]
    },
    {
      "cell_type": "markdown",
      "metadata": {
        "id": "VUFl8zZ1xg1C"
      },
      "source": [
        "**Optimisasi:**"
      ]
    },
    {
      "cell_type": "code",
      "metadata": {
        "colab": {
          "base_uri": "https://localhost:8080/"
        },
        "id": "JMvIv-LYxqzy",
        "outputId": "cf07312b-5e81-47a2-be99-31a47d46eace"
      },
      "source": [
        "from scipy.optimize import minimize_scalar\n",
        "\n",
        "def f(x):\n",
        "  return x**2+2*x+1\n",
        "\n",
        "opt=minimize_scalar(f)\n",
        "opt"
      ],
      "execution_count": 9,
      "outputs": [
        {
          "output_type": "execute_result",
          "data": {
            "text/plain": [
              "     fun: 0.0\n",
              "    nfev: 9\n",
              "     nit: 4\n",
              " success: True\n",
              "       x: -1.0000000000000002"
            ]
          },
          "metadata": {
            "tags": []
          },
          "execution_count": 9
        }
      ]
    },
    {
      "cell_type": "markdown",
      "metadata": {
        "id": "ueZ4x1uvyAZY"
      },
      "source": [
        "y = 0.0, x = 1.0000000000000002"
      ]
    },
    {
      "cell_type": "code",
      "metadata": {
        "colab": {
          "base_uri": "https://localhost:8080/",
          "height": 269
        },
        "id": "Eixpxr9NyVCM",
        "outputId": "4b724731-d364-40ae-8c8c-939da194cc14"
      },
      "source": [
        "x = np.linspace(-7,7)\n",
        "\n",
        "plt.plot(x,f(x),label='f(x)')\n",
        "plt.scatter(opt.x,opt.fun)\n",
        "plt.ylim(-5,30)\n",
        "plt.legend()\n",
        "plt.show()"
      ],
      "execution_count": 11,
      "outputs": [
        {
          "output_type": "display_data",
          "data": {
            "image/png": "[encoded data removed]",
            "text/plain": [
              "<Figure size 432x288 with 1 Axes>"
            ]
          },
          "metadata": {
            "tags": [],
            "needs_background": "light"
          }
        }
      ]
    },
    {
      "cell_type": "markdown",
      "metadata": {
        "id": "KgwBZAiGSdeH"
      },
      "source": [
        "# $y = 4x^3$ - $3x^2$ + $2x$ - $1$:"
      ]
    },
    {
      "cell_type": "code",
      "metadata": {
        "colab": {
          "base_uri": "https://localhost:8080/",
          "height": 55
        },
        "id": "vTi0dt2HROYR",
        "outputId": "68dddce9-5322-4730-f1a8-dec492baa6bb"
      },
      "source": [
        "x = sy.Symbol('x', real = True)\n",
        "f = 4*x**3-3*x**2+2*x-1\n",
        "\n",
        "print('f\\'(x) adalah:')\n",
        "f.diff(x)"
      ],
      "execution_count": 12,
      "outputs": [
        {
          "output_type": "stream",
          "text": [
            "f'(x) adalah:\n"
          ],
          "name": "stdout"
        },
        {
          "output_type": "execute_result",
          "data": {
            "text/latex": "$\\displaystyle 12 x^{2} - 6 x + 2$",
            "text/plain": [
              "12*x**2 - 6*x + 2"
            ]
          },
          "metadata": {
            "tags": []
          },
          "execution_count": 12
        }
      ]
    },
    {
      "cell_type": "markdown",
      "metadata": {
        "id": "VjQPuv90R-MO"
      },
      "source": [
        "Menggunakan numpy"
      ]
    },
    {
      "cell_type": "code",
      "metadata": {
        "id": "xMiHFTIkR-MU"
      },
      "source": [
        "x = np.linspace(0,20)\n",
        "y = 4*x**3-3*x**2+2*x-1"
      ],
      "execution_count": 13,
      "outputs": []
    },
    {
      "cell_type": "markdown",
      "metadata": {
        "id": "pAqdF1MoR-MV"
      },
      "source": [
        "$slope = \\dfrac{rise}{run} = \\dfrac{\\Delta y}{\\Delta x} = \\dfrac{y_\\mathrm{B} - y_\\mathrm{A}}{x_\\mathrm{B} - x_\\mathrm{A}}$"
      ]
    },
    {
      "cell_type": "code",
      "metadata": {
        "colab": {
          "base_uri": "https://localhost:8080/"
        },
        "id": "96Pfu8EuR-MV",
        "outputId": "5183ec48-2465-4a5f-8001-0cf636e63a75"
      },
      "source": [
        "df = np.diff(y)/np.diff(x)\n",
        "x"
      ],
      "execution_count": 14,
      "outputs": [
        {
          "output_type": "execute_result",
          "data": {
            "text/plain": [
              "array([ 0.        ,  0.40816327,  0.81632653,  1.2244898 ,  1.63265306,\n",
              "        2.04081633,  2.44897959,  2.85714286,  3.26530612,  3.67346939,\n",
              "        4.08163265,  4.48979592,  4.89795918,  5.30612245,  5.71428571,\n",
              "        6.12244898,  6.53061224,  6.93877551,  7.34693878,  7.75510204,\n",
              "        8.16326531,  8.57142857,  8.97959184,  9.3877551 ,  9.79591837,\n",
              "       10.20408163, 10.6122449 , 11.02040816, 11.42857143, 11.83673469,\n",
              "       12.24489796, 12.65306122, 13.06122449, 13.46938776, 13.87755102,\n",
              "       14.28571429, 14.69387755, 15.10204082, 15.51020408, 15.91836735,\n",
              "       16.32653061, 16.73469388, 17.14285714, 17.55102041, 17.95918367,\n",
              "       18.36734694, 18.7755102 , 19.18367347, 19.59183673, 20.        ])"
            ]
          },
          "metadata": {
            "tags": []
          },
          "execution_count": 14
        }
      ]
    },
    {
      "cell_type": "code",
      "metadata": {
        "colab": {
          "base_uri": "https://localhost:8080/",
          "height": 281
        },
        "id": "o8j5wLcvSQrj",
        "outputId": "77bc2c01-b89f-49c5-f4bf-bc337617a1af"
      },
      "source": [
        "plt.plot(x,y, label='f(x)')\n",
        "plt.plot(x[1:],df,label=\"f'(x)\")\n",
        "plt.title('Turunan f(x)')\n",
        "plt.legend()\n",
        "plt.show()"
      ],
      "execution_count": 15,
      "outputs": [
        {
          "output_type": "display_data",
          "data": {
            "image/png": "[encoded data removed]",
            "text/plain": [
              "<Figure size 432x288 with 1 Axes>"
            ]
          },
          "metadata": {
            "tags": [],
            "needs_background": "light"
          }
        }
      ]
    }
  ]
}